{
 "cells": [
  {
   "cell_type": "code",
   "execution_count": 92,
   "metadata": {},
   "outputs": [],
   "source": [
    "# imports\n",
    "from wand.image import Image as Img\n",
    "from PIL import Image\n",
    "import pytesseract\n",
    "import wand.display\n",
    "import os"
   ]
  },
  {
   "cell_type": "markdown",
   "metadata": {},
   "source": [
    "### Reading from Image"
   ]
  },
  {
   "cell_type": "code",
   "execution_count": 28,
   "metadata": {},
   "outputs": [
    {
     "name": "stdout",
     "output_type": "stream",
     "text": [
      "This is a lot of 12 point text to test the\n",
      "ocr code and see if it works on all types\n",
      "of file format.\n",
      "\n",
      "The quick brown dog jumped over the\n",
      "lazy fox. The quick brown dog jumped\n",
      "over the lazy fox. The quick brown dog\n",
      "jumped over the lazy fox. The quick\n",
      "brown dog jumped over the lazy fox.\n",
      "----------------------------------------\n",
      "Store #05666\n",
      "\n",
      "3515 DEL MAR HTS,RD\n",
      "SAN DIEGO, CA 92130\n",
      "(858) 792—7040\n",
      "\n",
      "Register #4 Transaction #571140\n",
      "Cashier #56661020 8/20/17 5:45PM\n",
      "\n",
      "wei1ness+ with Plenti\n",
      "Pienti Card#: 31XXXXXXXXXX4558\n",
      "\n",
      "1 G2 RETRACT BOLD BLK ZPK 1.99 T\n",
      "SALE 1/1.99, Reg 1/4.69\n",
      "Discount 2.70-\n",
      "\n",
      "1 Items Subtotai 1.99\n",
      "Tax .15\n",
      "\n",
      ". Total 2.14\n",
      "*MASTERw 2.14\n",
      "\n",
      "MASTER card * #XXXXXXXXXXXX5485\n",
      "App #AA APPROVAL AUTO\n",
      "\n",
      "Ref # 05689E\n",
      "\n",
      "Entry Method: Chip\n"
     ]
    }
   ],
   "source": [
    "# 1. Normal Image with text\n",
    "img = Image.open(\"testocr.png\")\n",
    "text = pytesseract.image_to_string(img, lang = 'eng')\n",
    "print(text)\n",
    "\n",
    "print(\"-\"*40)\n",
    "\n",
    "# 2. Bill Image\n",
    "img = Image.open(\"receipt.png\")\n",
    "text = pytesseract.image_to_string(img, lang = 'eng')W\n",
    "print(text)"
   ]
  },
  {
   "cell_type": "markdown",
   "metadata": {},
   "source": [
    "### Reading from PDF file\n",
    "- We will read the pdf file using wand and convert it into images\n",
    "    - ie. for every page one image"
   ]
  },
  {
   "cell_type": "code",
   "execution_count": 97,
   "metadata": {},
   "outputs": [
    {
     "name": "stdout",
     "output_type": "stream",
     "text": [
      "\n",
      "----- PAGE : 1------\n",
      "A Simple PDF File\n",
      "\n",
      "This is a small demonstration .pdf file —\n",
      "\n",
      "just for use in the Virtual Mechanics tutorials. More text. And more\n",
      "text. And more text. And more text. And more text.\n",
      "\n",
      "And more text. And more text. And more text. And more text. And more\n",
      "text. And more text. Boring, zzzzz. And more text. And more text. And\n",
      "\n",
      "more text. And more text. And more text. And more text. And more text.\n",
      "\n",
      "And more text. And more text.\n",
      "\n",
      "And more text. And more text. And more text. And more text. And more\n",
      "text. And more text. And more text. Even more. Continued on page 2\n",
      "\n",
      "----- PAGE : 2------\n",
      "Simple PDF File 2\n",
      "\n",
      "...continued from page 1. Yet more text. And more text. And more text.\n",
      "And more text. And more text. And more text. And more text. And more\n",
      "text. Oh, how boring typing this stuff. But not as boring as watching\n",
      "paint dry. And more text. And more text. And more text. And more text.\n",
      "Boring. More, a little more text. The end, and just as well.\n"
     ]
    }
   ],
   "source": [
    "from wand.image import Image as Img\n",
    "from PIL import Image\n",
    "\n",
    "pages = []\n",
    "num_of_pages = 0\n",
    "\n",
    "with Img(filename='sample.pdf', resolution=300) as source:\n",
    "    #img.compression_quality = 99\n",
    "    \n",
    "    images = source.sequence\n",
    "    num_of_images = len(images)\n",
    "    \n",
    "    for i in range(num_of_images):\n",
    "        name = \"./temp/image\"+str(i)+\".jpg\"\n",
    "        Img(images[i]).save(filename=name)\n",
    "        pil_image = Image.open(name)\n",
    "        text = pytesseract.image_to_string(pil_image, lang = 'eng')\n",
    "        os.remove(name)\n",
    "        print(\"\\n----- PAGE : \"+str(i+1)+\"------\")\n",
    "        print(text)\n",
    "        "
   ]
  },
  {
   "cell_type": "code",
   "execution_count": null,
   "metadata": {},
   "outputs": [],
   "source": []
  }
 ],
 "metadata": {
  "kernelspec": {
   "display_name": "Python 3",
   "language": "python",
   "name": "python3"
  },
  "language_info": {
   "codemirror_mode": {
    "name": "ipython",
    "version": 3
   },
   "file_extension": ".py",
   "mimetype": "text/x-python",
   "name": "python",
   "nbconvert_exporter": "python",
   "pygments_lexer": "ipython3",
   "version": "3.6.5"
  }
 },
 "nbformat": 4,
 "nbformat_minor": 2
}
